{
 "cells": [
  {
   "cell_type": "markdown",
   "metadata": {},
   "source": [
    "### HW1"
   ]
  },
  {
   "cell_type": "markdown",
   "metadata": {},
   "source": [
    "+ Data Set\n",
    "    + https://www.kaggle.com/c/instacart-market-basket-analysis\n",
    "+ 這組資料為何重要\n",
    "    + 解決企業問題，對 Instacart 而言可以瞭解客戶下單模式，進而增加公司收益\n",
    "+ 資料從何而來\n",
    "    + 由 Instacart 提供，此組資料為該公司的客戶下單資料。紀錄每次客戶購買的商品、時間...\n",
    "+ 資料型態為何\n",
    "    + 多個 csv 檔，彼此之間可利用欄位做連接。 \n",
    "+ 想解決的問題如何評估\n",
    "    + 想藉由資料來預測未來該客戶會購買的商品，因此利用預測結果與真實結果的差異來評估預測狀況。(在這個比賽中會使用 mean F1 score 來評估)"
   ]
  },
  {
   "cell_type": "markdown",
   "metadata": {},
   "source": [
    "### HW2"
   ]
  },
  {
   "cell_type": "markdown",
   "metadata": {},
   "source": [
    "#### 經營一個自由載客車隊，希望能透過數據分析以提升業績，描述該如何規劃整體的分析/解決方案：\n",
    "+ 核心問題\n",
    "    + 假設: 自由載客車隊的資料庫中有紀錄所有需要用到的資訊。如載客資訊(載客上下車地點、行政區、司機、客戶對這次服務的評價)、客戶基本資料(居住地區,性別,年齡,教育程度)\n",
    "    + 定義: 探討載客區域與業績間的關係、客戶的叫車頻率，得知叫車頻率後可以給予適當的優惠吸引及鼓勵客戶回流\n",
    "+ 資料從何而來\n",
    "    + 資料如何蒐集: 需要記錄每次載客資訊及客戶基本資料\n",
    "    + 資料可能對問題產生影響: 若沒有含有該有的資料則無法作出對應的分析結果，如若沒有紀錄載客資訊則無法得知哪些區域是比較需要用車的地區就無法安排更多車在該區域、若沒有記錄客戶基本資訊就無法得知怎樣的客群是比較常叫車的  \n",
    "+ 蒐集而來的資料型態為何\n",
    "    + 資料型態為表格形式，紀錄每次載客的資訊，並利用客戶 id 得知該客戶的資本資訊\n",
    "+ 如何評估(假設如何驗證)\n",
    "    + 預測該客戶是否會叫車，可以利用預測與真實狀況的差異做評估(可利用預測正確率等方法)"
   ]
  },
  {
   "cell_type": "markdown",
   "metadata": {},
   "source": [
    "### HW3"
   ]
  },
  {
   "cell_type": "markdown",
   "metadata": {},
   "source": [
    "#### Mean Squared Error\n",
    "\n",
    "$$\\frac{1}{n}\\sum^{n}_{i=1}\\left( X_{i} - \\hat{X} \\right)^2$$\n"
   ]
  },
  {
   "cell_type": "code",
   "execution_count": 1,
   "metadata": {},
   "outputs": [],
   "source": [
    "import numpy as np\n",
    "import matplotlib.pyplot as plt"
   ]
  },
  {
   "cell_type": "code",
   "execution_count": 2,
   "metadata": {},
   "outputs": [],
   "source": [
    "# ---- Generate Data ----\n",
    "w = 3\n",
    "b = 0.5\n",
    "\n",
    "x_lin = np.linspace(0, 100, 101)\n",
    "y = (x_lin + np.random.randn(101) * 5) * w + b\n",
    "y_hat = x_lin * w + b"
   ]
  },
  {
   "cell_type": "code",
   "execution_count": 3,
   "metadata": {},
   "outputs": [
    {
     "data": {
      "image/png": "[encoded data removed]",
      "text/plain": [
       "<Figure size 432x288 with 1 Axes>"
      ]
     },
     "metadata": {},
     "output_type": "display_data"
    }
   ],
   "source": [
    "# ---- Plot Data ----\n",
    "# -- We Have Data points --\n",
    "plt.plot(x_lin, y, 'b.', label = 'data points')\n",
    "plt.title(\"Assume we have data points\")\n",
    "plt.legend(loc = 2)\n",
    "plt.show()"
   ]
  },
  {
   "cell_type": "code",
   "execution_count": 4,
   "metadata": {
    "scrolled": true
   },
   "outputs": [
    {
     "data": {
      "image/png": "[encoded data removed]",
      "text/plain": [
       "<Figure size 432x288 with 1 Axes>"
      ]
     },
     "metadata": {},
     "output_type": "display_data"
    }
   ],
   "source": [
    "# ---- Plot Data ----\n",
    "# -- We Have Data points (And the prediction) --\n",
    "plt.plot(x_lin, y, 'b.', label = 'data')\n",
    "plt.plot(x_lin, y_hat, 'r-', label = 'prediction')\n",
    "plt.title(\"Assume we have data points (And the prediction)\")\n",
    "plt.legend(loc = 2)\n",
    "plt.show()"
   ]
  },
  {
   "cell_type": "code",
   "execution_count": 5,
   "metadata": {},
   "outputs": [],
   "source": [
    "def mean_squared_error(y, yp):\n",
    "    \"\"\"\n",
    "    計算 MSE\n",
    "    Args:\n",
    "        - y: 實際值\n",
    "        - yp: 預測值\n",
    "    Return:\n",
    "        - mse: MSE\n",
    "    \"\"\"\n",
    "    mse = MSE = sum((y - yp)**2) / len(y)\n",
    "    return mse"
   ]
  },
  {
   "cell_type": "code",
   "execution_count": 6,
   "metadata": {},
   "outputs": [],
   "source": [
    "def mean_absolute_error(y, yp):\n",
    "    \"\"\"\n",
    "    計算 MAE\n",
    "    Args:\n",
    "        - y: 實際值\n",
    "        - yp: 預測值\n",
    "    Return:\n",
    "        - mae: MAE\n",
    "    \"\"\"\n",
    "    mae = MAE = sum(abs(y - yp)) / len(y)\n",
    "    return mae"
   ]
  },
  {
   "cell_type": "code",
   "execution_count": 7,
   "metadata": {},
   "outputs": [
    {
     "name": "stdout",
     "output_type": "stream",
     "text": [
      "The Mean squared error is 203.651\n",
      "The Mean absolute error is 11.237\n"
     ]
    }
   ],
   "source": [
    "MSE = mean_squared_error(y, y_hat)\n",
    "MAE = mean_absolute_error(y, y_hat)\n",
    "print(\"The Mean squared error is %.3f\" % (MSE))\n",
    "print(\"The Mean absolute error is %.3f\" % (MAE))"
   ]
  },
  {
   "cell_type": "code",
   "execution_count": 8,
   "metadata": {},
   "outputs": [],
   "source": [
    "### ---- Other Way Without Numpy ----\n",
    "def my_mse( x, y ):\n",
    "    \"Mean Squared Error\"  \n",
    "    def my_count( z ):\n",
    "        \"Count\"\n",
    "        tmp_count = 0\n",
    "        for i in z :\n",
    "            tmp_count += 1\n",
    "        return(tmp_count)   \n",
    "\n",
    "    tmp = 0\n",
    "    for i ,j in zip(x, y):\n",
    "        tmp = tmp + ( i-j )**2\n",
    "    \n",
    "    mse = (1/my_count(x))*tmp\n",
    "    return mse\n",
    "\n",
    "### ---- Testing Data ---- \n",
    "#test_x = [17.0, 21.3, 20.1, 22.6, 27.0, 27.8, 30.1, 30.3, 29.4, 28.1, 27.0, 17.5]\n",
    "#test_y = [21.1, 21.7, 22.9, 25.7, 28.4, 28.4, 29.4, 30.2, 29.7, 28.9, 26.9, 21.6]\n",
    "#print('MSE : ', my_mse(test_x, test_y))\n",
    "\n",
    "## ---- Verified ----\n",
    "#import numpy as np\n",
    "#print('Use numpy Method : ', np.mean((np.array(test_x) - np.array(test_y)) ** 2))"
   ]
  }
 ],
 "metadata": {
  "kernelspec": {
   "display_name": "Python 3",
   "language": "python",
   "name": "python3"
  },
  "language_info": {
   "codemirror_mode": {
    "name": "ipython",
    "version": 3
   },
   "file_extension": ".py",
   "mimetype": "text/x-python",
   "name": "python",
   "nbconvert_exporter": "python",
   "pygments_lexer": "ipython3",
   "version": "3.6.5"
  }
 },
 "nbformat": 4,
 "nbformat_minor": 2
}
